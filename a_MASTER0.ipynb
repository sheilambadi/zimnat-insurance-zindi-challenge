{
 "cells": [
  {
   "cell_type": "code",
   "execution_count": 2,
   "metadata": {},
   "outputs": [],
   "source": [
    "import print_n_log"
   ]
  },
  {
   "cell_type": "code",
   "execution_count": 8,
   "metadata": {},
   "outputs": [],
   "source": [
    "# Parameters for Preprocessing Notebook\n",
    "#---------------------------------------------\n",
    "IS_MASTER = True # Remember this? We need to set this to True in MASTER Notebook so that it does not use the default parameters in processing notebook.\n",
    "DATA_DIR = './data/temp/'\n",
    "RAW_FILE = f'/path/to/smallData.csv' # use \"small data\" here\n",
    "PROCESSED_FILE = f'{DATA_DIR}processed.pkl' # always use pickle for fast I/O!\n",
    "OTHER_PREPROCESS_PARAMETER = ... # like batch size, sliding# Let's save the original print method in ori_print\n",
    "#---------------------------------------------------\n",
    "ori_print = print# Now we set the print method to be modified print\n",
    "#--------------------------------------------------\n",
    "print = print_n_log.run('preproc', './logs/preprocess.log', 'DEBUG')# Now, we run the Preprocessing Notebook using the %run magic\n",
    "#-------------------------------------------------------------\n",
    "%run \"b_preprocess.ipynb\" # Finally, after running notebook, we set the print method back to the original print method.\n",
    "#-----------------------------------------------------\n",
    "print = ori_print"
   ]
  },
  {
   "cell_type": "code",
   "execution_count": null,
   "metadata": {},
   "outputs": [],
   "source": []
  }
 ],
 "metadata": {
  "kernelspec": {
   "display_name": "Python 3",
   "language": "python",
   "name": "python3"
  },
  "language_info": {
   "codemirror_mode": {
    "name": "ipython",
    "version": 3
   },
   "file_extension": ".py",
   "mimetype": "text/x-python",
   "name": "python",
   "nbconvert_exporter": "python",
   "pygments_lexer": "ipython3",
   "version": "3.7.3"
  }
 },
 "nbformat": 4,
 "nbformat_minor": 2
}
